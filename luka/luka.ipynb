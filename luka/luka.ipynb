{
 "cells": [
  {
   "cell_type": "markdown",
   "id": "cf664006",
   "metadata": {},
   "source": [
    "# Luka Doncic Data Analysis"
   ]
  },
  {
   "cell_type": "markdown",
   "id": "df8008f0",
   "metadata": {},
   "source": [
    "Any player in the NBA can shoot 60 out of the teams 70 total attempts and have 40 points on 33% shooting, but that often isn't discussed. I constantly see graphics of players scoring 40 points but the field goal percentage and percent of total teams shots is rarely discussed. Any player can ball hog and account for 70% of their teams shots and brag about whatever number that comes out to be.\n",
    "\n",
    "Luka is a certain player I wanted to explore more off. He scores at a very high rate and is consistently posted on media channels after a high scoring night.\n",
    "\n",
    "Cam Thomas is a very similar case, where he is a player that shoots 30 attempts a night but the game always leads to a loss.\n",
    "\n",
    "With the Luka case I wanted to see if his amount of attempts have any correlation with the outcome, if his team percent shooting affects the outcome, how much control does he have in the game, and many more questions."
   ]
  },
  {
   "cell_type": "code",
   "execution_count": 13,
   "id": "57de2aa7",
   "metadata": {},
   "outputs": [],
   "source": [
    "import numpy as np"
   ]
  },
  {
   "cell_type": "code",
   "execution_count": null,
   "id": "7879691c",
   "metadata": {},
   "outputs": [],
   "source": []
  },
  {
   "cell_type": "code",
   "execution_count": 23,
   "id": "34308e36",
   "metadata": {},
   "outputs": [],
   "source": [
    "import csv"
   ]
  },
  {
   "cell_type": "code",
   "execution_count": 24,
   "id": "6cda1bdc",
   "metadata": {},
   "outputs": [],
   "source": [
    "import numpy as np"
   ]
  },
  {
   "cell_type": "markdown",
   "id": "b596503c",
   "metadata": {},
   "source": []
  },
  {
   "cell_type": "code",
   "execution_count": 45,
   "id": "04ea6104",
   "metadata": {},
   "outputs": [],
   "source": [
    "opponent = []\n",
    "lukafga = []\n",
    "lukafga_per = []\n",
    "teamfga = []\n",
    "teamfga_per = []\n",
    "lukaperofteam = []\n",
    "result = []\n",
    "\n",
    "\n",
    "with open('Luka.csv') as file:\n",
    "    player_reader = csv.reader(file)\n",
    "    next(player_reader) # skip the first row\n",
    "    for row in player_reader:\n",
    "        opponent.append(str(row[0]))\n",
    "        lukafga.append (int(row[1]))\n",
    "        lukafga_per.append(float(row[2]))\n",
    "        teamfga.append(int(row[3]))\n",
    "        teamfga_per.append(float(row[4]))\n",
    "        lukaperofteam.append(float(row[5]))\n",
    "        result.append(str(row[8]))"
   ]
  },
  {
   "cell_type": "code",
   "execution_count": 26,
   "id": "b7cc41a9",
   "metadata": {},
   "outputs": [
    {
     "data": {
      "text/plain": [
       "65"
      ]
     },
     "execution_count": 26,
     "metadata": {},
     "output_type": "execute_result"
    }
   ],
   "source": [
    "len(opponent)"
   ]
  },
  {
   "cell_type": "markdown",
   "id": "1dce3a05",
   "metadata": {},
   "source": [
    "Question 1: Does his attempts have an impact on result"
   ]
  },
  {
   "cell_type": "code",
   "execution_count": 29,
   "id": "4d152450",
   "metadata": {},
   "outputs": [],
   "source": [
    "lfg = np.array(lukafga)"
   ]
  },
  {
   "cell_type": "code",
   "execution_count": 30,
   "id": "667f1160",
   "metadata": {},
   "outputs": [
    {
     "data": {
      "text/plain": [
       "array([23, 23, 30, 28, 23, 26, 20, 15, 22, 29, 21, 22, 22, 22, 16, 28, 15,\n",
       "       20, 27, 25, 21, 20, 17, 28, 27, 23, 18, 17, 16, 30, 16, 31, 21, 29,\n",
       "       26, 23, 23, 22, 28, 19, 19, 24, 21, 29, 24, 19, 20, 20, 22, 16, 22,\n",
       "       25, 22, 23, 23, 14, 27, 23, 29, 17, 20, 25, 21, 19, 11])"
      ]
     },
     "execution_count": 30,
     "metadata": {},
     "output_type": "execute_result"
    }
   ],
   "source": [
    "lfg"
   ]
  },
  {
   "cell_type": "code",
   "execution_count": 37,
   "id": "7bbc8530",
   "metadata": {},
   "outputs": [],
   "source": [
    "result = np.array(result)"
   ]
  },
  {
   "cell_type": "code",
   "execution_count": 38,
   "id": "fa4dff91",
   "metadata": {},
   "outputs": [
    {
     "data": {
      "text/plain": [
       "array(['L', 'W', 'L', 'W', 'L', 'W', 'W', 'W', 'W', 'L', 'L', 'W', 'W',\n",
       "       'W', 'L', 'L', 'L', 'L', 'W', 'L', 'W', 'W', 'W', 'L', 'W', 'L',\n",
       "       'W', 'L', 'W', 'W', 'W', 'W', 'W', 'W', 'W', 'L', 'W', 'L', 'W',\n",
       "       'L', 'L ', 'W', 'L', 'L', 'W', 'W', 'L', 'L', 'L', 'W', 'L', 'L',\n",
       "       'W', 'L', 'W', 'L', 'L', 'L', 'L', 'W', 'L', 'L', 'L', 'W', 'L'],\n",
       "      dtype='<U2')"
      ]
     },
     "execution_count": 38,
     "metadata": {},
     "output_type": "execute_result"
    }
   ],
   "source": [
    "result"
   ]
  },
  {
   "cell_type": "markdown",
   "id": "3de16944",
   "metadata": {},
   "source": []
  },
  {
   "cell_type": "code",
   "execution_count": 46,
   "id": "5a97f572",
   "metadata": {},
   "outputs": [
    {
     "data": {
      "text/plain": [
       "23.0"
      ]
     },
     "execution_count": 46,
     "metadata": {},
     "output_type": "execute_result"
    }
   ],
   "source": [
    "np.mean(lfg[0])"
   ]
  },
  {
   "cell_type": "code",
   "execution_count": null,
   "id": "8bfb6902",
   "metadata": {
    "collapsed": true
   },
   "outputs": [],
   "source": [
    "np."
   ]
  }
 ],
 "metadata": {
  "kernelspec": {
   "display_name": "Python 3 (ipykernel)",
   "language": "python",
   "name": "python3"
  },
  "language_info": {
   "codemirror_mode": {
    "name": "ipython",
    "version": 3
   },
   "file_extension": ".py",
   "mimetype": "text/x-python",
   "name": "python",
   "nbconvert_exporter": "python",
   "pygments_lexer": "ipython3",
   "version": "3.11.4"
  }
 },
 "nbformat": 4,
 "nbformat_minor": 5
}
